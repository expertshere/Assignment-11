{
 "cells": [
  {
   "cell_type": "code",
   "execution_count": 4,
   "id": "31f73ca7",
   "metadata": {},
   "outputs": [
    {
     "name": "stdout",
     "output_type": "stream",
     "text": [
      "enter the number:6\n",
      "positive number\n"
     ]
    }
   ],
   "source": [
    "# logical problems \n",
    "num=int(input(\"enter the number:\"))\n",
    "if num >0:\n",
    "    print(\"positive number\")\n",
    "elif num <0:\n",
    "    print(\"negative number\")\n",
    "else:\n",
    "    print(\"zero\")"
   ]
  },
  {
   "cell_type": "code",
   "execution_count": 8,
   "id": "194d4512",
   "metadata": {},
   "outputs": [
    {
     "name": "stdout",
     "output_type": "stream",
     "text": [
      "enter the age:18\n",
      "you are teenager\n"
     ]
    }
   ],
   "source": [
    "# 2)\n",
    "age=int(input(\"enter the age:\"))\n",
    "if age <13:\n",
    "    print(\"you are child\")\n",
    "elif age >12 and age< 20:\n",
    "    print(\"you are teenager\")\n",
    "elif age <65:\n",
    "    print(\"you are adult\")\n",
    "else:\n",
    "    print(\"you are srnior\")"
   ]
  },
  {
   "cell_type": "code",
   "execution_count": 10,
   "id": "073f2ec3",
   "metadata": {},
   "outputs": [
    {
     "name": "stdout",
     "output_type": "stream",
     "text": [
      "enter the num1:2\n",
      "enter the num2:7\n",
      "num2 is larger\n"
     ]
    }
   ],
   "source": [
    "# 3)\n",
    "num1=int(input(\"enter the num1:\"))\n",
    "num2=int(input(\"enter the num2:\"))\n",
    "if num1 > num2:\n",
    "    print(\"num1 is larger number\")\n",
    "else:\n",
    "    print(\"num2 is larger\")"
   ]
  },
  {
   "cell_type": "code",
   "execution_count": 11,
   "id": "edc7578d",
   "metadata": {},
   "outputs": [
    {
     "name": "stdout",
     "output_type": "stream",
     "text": [
      "enter the year:2005\n",
      "2005  is not a leap year\n"
     ]
    }
   ],
   "source": [
    "#4)\n",
    "year=int(input(\"enter the year:\"))\n",
    "if year % 400==0 and year % 100==0:\n",
    "    print(year,\"year is leap year\")\n",
    "if year %4==0 and year % 100==0:\n",
    "    print(year,\"is a leap year\")\n",
    "else:\n",
    "    print(year,\" is not a leap year\")"
   ]
  },
  {
   "cell_type": "code",
   "execution_count": 14,
   "id": "bbd8abb1",
   "metadata": {},
   "outputs": [
    {
     "name": "stdout",
     "output_type": "stream",
     "text": [
      "enter the num1:6\n",
      "enter the num2:4\n",
      "enter the num3:2\n",
      "maximun number 6\n",
      "minimum number 2\n"
     ]
    }
   ],
   "source": [
    "#5\n",
    "num1=int(input(\"enter the num1:\"))\n",
    "num2=int(input(\"enter the num2:\"))\n",
    "num3=int(input(\"enter the num3:\"))\n",
    "max_num=num1\n",
    "min_num=num1\n",
    "if num2 > max_num:\n",
    "    max_num = num2\n",
    "if num3 > max_num:\n",
    "    max_num=num3\n",
    "if num2<min_num:\n",
    "    min_num=num2\n",
    "if num3<min_num:\n",
    "    min_num=num3\n",
    "print(\"maximun number\",max_num)\n",
    "print(\"minimum number\",min_num)\n",
    "    "
   ]
  },
  {
   "cell_type": "code",
   "execution_count": 18,
   "id": "97b4ede2",
   "metadata": {},
   "outputs": [
    {
     "name": "stdout",
     "output_type": "stream",
     "text": [
      "enter your exam score:88\n",
      "you got B grade\n"
     ]
    }
   ],
   "source": [
    "#6)\n",
    "score=int(input(\"enter your exam score:\"))\n",
    "if score >90 and score < 100:\n",
    "    print(\"you got A grade\")\n",
    "elif score >80 and score < 89:\n",
    "    print(\"you got B grade\")\n",
    "elif score > 70 and score < 79:\n",
    "    print(\"you got C grade\")\n",
    "elif score > 60 and score < 69:\n",
    "    print(\"you got D grade\")\n",
    "else:\n",
    "    print (\"you got F grade\")"
   ]
  },
  {
   "cell_type": "code",
   "execution_count": 23,
   "id": "6d2db248",
   "metadata": {},
   "outputs": [
    {
     "name": "stdout",
     "output_type": "stream",
     "text": [
      "enter the unit price of item:4000\n",
      "enter the quantity of items:2\n",
      "7200.0\n"
     ]
    }
   ],
   "source": [
    "#simple practical problems\n",
    "# 1)\n",
    "unit_price=int(input(\"enter the unit price of item:\"))\n",
    "quantity=int(input(\"enter the quantity of items:\"))\n",
    "total_cost=(unit_price*quantity)\n",
    "if total_cost > 1000:\n",
    "    discount=total_cost*0.9\n",
    "print(discount)"
   ]
  },
  {
   "cell_type": "code",
   "execution_count": 27,
   "id": "397af75a",
   "metadata": {},
   "outputs": [
    {
     "name": "stdout",
     "output_type": "stream",
     "text": [
      "enter the temprature in celsius:12\n",
      "you should wear a jacket\n"
     ]
    }
   ],
   "source": [
    "# 2)\n",
    "temp=int(input(\"enter the temprature in celsius:\"))\n",
    "if temp <20 :\n",
    "    print(\"you should wear a jacket\")\n",
    "else:\n",
    "    print(\"no need of wearing warm clothes\")"
   ]
  },
  {
   "cell_type": "code",
   "execution_count": 4,
   "id": "88a16fbe",
   "metadata": {},
   "outputs": [
    {
     "name": "stdout",
     "output_type": "stream",
     "text": [
      "enter the side of triangle:40\n",
      "enter the side of triangle:40\n",
      "enter the side of triangle:30\n",
      "its isosceles\n"
     ]
    }
   ],
   "source": [
    "#3)\n",
    "side1=int(input(\"enter the side of triangle:\"))\n",
    "side2=int(input(\"enter the side of triangle:\"))\n",
    "side3=int(input(\"enter the side of triangle:\"))\n",
    "if side1 == side2 == side3:\n",
    "    print(\"its equilateral\")\n",
    "elif side1 == side2 or  side1==side3 or side2==side3:\n",
    "    print(\"its isosceles\")\n",
    "else:\n",
    "    print(\"its scalene\")\n",
    "    "
   ]
  },
  {
   "cell_type": "code",
   "execution_count": 2,
   "id": "4469ac1a",
   "metadata": {},
   "outputs": [
    {
     "name": "stdout",
     "output_type": "stream",
     "text": [
      "please enter the PIN:238\n",
      "you can with drawl money\n"
     ]
    }
   ],
   "source": [
    "#4)\n",
    "PIN = 238\n",
    "balance = 10000\n",
    "users_PIN=int(input(\"please enter the PIN:\"))\n",
    "withdrwal_mon\n",
    "if PIN == users_PIN and  balance > 100:\n",
    "    print(\"you can with drawl money\")\n",
    "else:\n",
    "    print(\"retry\")\n"
   ]
  },
  {
   "cell_type": "code",
   "execution_count": 10,
   "id": "974003e7",
   "metadata": {},
   "outputs": [
    {
     "name": "stdout",
     "output_type": "stream",
     "text": [
      "enter the month as a number:2\n",
      "num of days in month is 28\n"
     ]
    }
   ],
   "source": [
    "#5)\n",
    "month=int(input(\"enter the month as a number:\"))\n",
    "if month ==2:\n",
    "    print(\"num of days in month is 28\")\n",
    "elif month in [4,6,9,11]:\n",
    "    print(\"num of days in month is 30\")\n",
    "else:\n",
    "    print(\"num of days in month is 31\")"
   ]
  },
  {
   "cell_type": "code",
   "execution_count": 11,
   "id": "70631cea",
   "metadata": {},
   "outputs": [
    {
     "name": "stdout",
     "output_type": "stream",
     "text": [
      "enter the year:2021\n",
      "enter the month:6\n",
      "There are 30 days in 6/2021.\n"
     ]
    }
   ],
   "source": [
    "#6)\n",
    "year=int(input(\"enter the year:\"))\n",
    "month=int(input(\"enter the month:\"))\n",
    "if month < 1 or month > 12:\n",
    "    print(\"Invalid month input\")\n",
    "else:\n",
    "    if month == 2:\n",
    "        if year % 4 == 0 and (year % 100 != 0 or year % 400 == 0):\n",
    "            days_in_month = 29\n",
    "        else:\n",
    "            days_in_month = 28\n",
    "    elif month in (1, 3, 5, 7, 8, 10, 12):\n",
    "        days_in_month = 31\n",
    "    else:\n",
    "        days_in_month = 30\n",
    "\n",
    "    print(f\"There are {days_in_month} days in {month}/{year}.\")"
   ]
  },
  {
   "cell_type": "code",
   "execution_count": 13,
   "id": "b469824a",
   "metadata": {},
   "outputs": [
    {
     "name": "stdout",
     "output_type": "stream",
     "text": [
      "enter the age:19\n",
      "enter the weight:45\n",
      "enter your activity level:very active\n",
      "Your daily calorie goal is: 3003.04 calories.\n"
     ]
    }
   ],
   "source": [
    "# Healty lifestyle:\n",
    "# 1) Calorie Counter:\n",
    "age=int(input(\"enter the age:\"))\n",
    "weight=int(input(\"enter the weight:\"))\n",
    "activity_level=input(\"enter your activity level:\")\n",
    "if age <= 3:\n",
    "    calorie_goal = 60 * weight\n",
    "elif 4 <= age <= 8:\n",
    "    calorie_goal = 90 * weight\n",
    "    calorie_goal = 655 + (9.6 * weight) + (1.8 * 1.73) - (4.7 * age)\n",
    "if activity_level == \"lightly active\":\n",
    "    calorie_goal *= 1.375\n",
    "elif activity_level == \"moderately active\":\n",
    "    calorie_goal *= 1.55\n",
    "elif activity_level == \"very active\":\n",
    "    calorie_goal *= 1.725\n",
    "\n",
    "print(f\"Your daily calorie goal is: {calorie_goal:.2f} calories.\")\n"
   ]
  },
  {
   "cell_type": "code",
   "execution_count": 1,
   "id": "73a6b5d2",
   "metadata": {},
   "outputs": [
    {
     "name": "stdout",
     "output_type": "stream",
     "text": [
      "Enter bedtime hour (0-23): 10\n",
      "Enter bedtime minute (0-59): 3\n",
      "Enter wake-up hour (0-23): 7\n",
      "Enter wake-up minute (0-59): 5\n",
      "Total sleep duration: 21 hours and 2 minutes\n",
      "You might be oversleeping. Try to wake up earlier and maintain a consistent sleep schedule.\n"
     ]
    }
   ],
   "source": [
    "#sleep tracker\n",
    "\n",
    "bedtime_hour = int(input(\"Enter bedtime hour (0-23): \"))\n",
    "bedtime_minute = int(input(\"Enter bedtime minute (0-59): \"))\n",
    "wake_up_hour = int(input(\"Enter wake-up hour (0-23): \"))\n",
    "wake_up_minute = int(input(\"Enter wake-up minute (0-59): \"))\n",
    "\n",
    "total_bedtime_minutes = bedtime_hour * 60 + bedtime_minute\n",
    "total_wake_up_minutes = wake_up_hour * 60 + wake_up_minute\n",
    "\n",
    "if total_wake_up_minutes >= total_bedtime_minutes:\n",
    "    total_sleep_minutes = total_wake_up_minutes - total_bedtime_minutes\n",
    "else:\n",
    "    total_sleep_minutes = (24 * 60 - total_bedtime_minutes) + total_wake_up_minutes\n",
    "\n",
    "print(f\"Total sleep duration: {total_sleep_minutes // 60} hours and {total_sleep_minutes % 60} minutes\")\n",
    "\n",
    "recommended_min_sleep = 7 * 60\n",
    "recommended_max_sleep = 9 * 60\n",
    "\n",
    "if total_sleep_minutes >= recommended_min_sleep and total_sleep_minutes <= recommended_max_sleep:\n",
    "    print(\"You've met the recommended sleep amount. Well done!\")\n",
    "elif total_sleep_minutes < recommended_min_sleep:\n",
    "    print(\"You should consider getting more sleep. Aim for at least 7 hours.\")\n",
    "else:\n",
    "    print(\"You might be oversleeping. Try to wake up earlier and maintain a consistent sleep schedule.\")"
   ]
  },
  {
   "cell_type": "code",
   "execution_count": 2,
   "id": "94685ce3",
   "metadata": {},
   "outputs": [
    {
     "name": "stdout",
     "output_type": "stream",
     "text": [
      "enter your weight:30\n",
      "enter the level of hydration:light\n",
      "you should take 0.8999999999999999 liters of water\n"
     ]
    }
   ],
   "source": [
    "# Hyderation helper\n",
    "weight=int(input(\"enter your weight:\"))\n",
    "level_of_hydration=input(\"enter the level of hydration:\")\n",
    "if level_of_hydration == \"light\" :\n",
    "    water_intake = weight * 0.03\n",
    "    print(f\"you should take {water_intake} liters of water\")\n",
    "elif level_of_hydration == \"moderate\":\n",
    "    water_intake = weight * 0.035\n",
    "    print(f\"you should take {water_intake} liters of water\")\n",
    "elif level_of_hydration == \"intense exercise\":\n",
    "    water_intake = weight *0.04\n",
    "    print(f\"you should take {water_intake} liters of water\")\n",
    "else:\n",
    "    print(\"invalid hydration level\")\n",
    "    "
   ]
  },
  {
   "cell_type": "code",
   "execution_count": 3,
   "id": "05b65ec9",
   "metadata": {},
   "outputs": [
    {
     "name": "stdout",
     "output_type": "stream",
     "text": [
      "1. Add Task\n",
      "2. Display Tasks\n",
      "3. Exit\n",
      "Enter your choice: 2\n",
      "Urgent Tasks:\n",
      "Important Tasks:\n",
      "Less Important Tasks:\n",
      "1. Add Task\n",
      "2. Display Tasks\n",
      "3. Exit\n",
      "Enter your choice: 1\n",
      "Enter task name: coding\n",
      "Enter due date (YYYY-MM-DD): 2023-02-11\n",
      "Enter priority (urgent/important/less important): urgent\n",
      "Task added successfully!\n",
      "1. Add Task\n",
      "2. Display Tasks\n",
      "3. Exit\n",
      "Enter your choice: 3\n",
      "Exiting program...\n"
     ]
    }
   ],
   "source": [
    " #Time Managment :\n",
    "# 1)  To_Do_List\n",
    "urgent_tasks = []\n",
    "important_tasks = []\n",
    "less_important_tasks = []\n",
    "while True:\n",
    "    print(\"1. Add Task\")\n",
    "    print(\"2. Display Tasks\")\n",
    "    print(\"3. Exit\")\n",
    "\n",
    "    choice = input(\"Enter your choice: \")\n",
    "\n",
    "    if choice == '1':\n",
    "        task = input(\"Enter task name: \")\n",
    "        due_date = input(\"Enter due date (YYYY-MM-DD): \")\n",
    "        priority = input(\"Enter priority (urgent/important/less important): \")\n",
    "        if priority == 'urgent':\n",
    "            urgent_tasks.append((task, due_date))\n",
    "        elif priority == 'important':\n",
    "            important_tasks.append((task, due_date))\n",
    "        else:\n",
    "            less_important_tasks.append((task, due_date))\n",
    "        \n",
    "        print(\"Task added successfully!\")\n",
    "    \n",
    "    elif choice == '2':\n",
    "       \n",
    "        print(\"Urgent Tasks:\")\n",
    "        for task, due_date in urgent_tasks:\n",
    "            print(f\"- {task} (Due: {due_date})\")\n",
    "        \n",
    "        print(\"Important Tasks:\")\n",
    "        for task, due_date in important_tasks:\n",
    "            print(f\"- {task} (Due: {due_date})\")\n",
    "        \n",
    "        print(\"Less Important Tasks:\")\n",
    "        for task, due_date in less_important_tasks:\n",
    "            print(f\"- {task} (Due: {due_date})\")\n",
    "    \n",
    "    elif choice == '3':\n",
    "        print(\"Exiting program...\")\n",
    "        break\n",
    "    \n",
    "    else:\n",
    "        print(\"Invalid choice. Please try again.\")"
   ]
  },
  {
   "cell_type": "code",
   "execution_count": null,
   "id": "f1709a8c",
   "metadata": {},
   "outputs": [],
   "source": [
    "# Pomodoro Timer\n",
    "WORK_DURATION = 25 * 60  \n",
    "BREAK_DURATION = 5 * 60   \n",
    "cycle_count = 0\n",
    "while True:\n",
    "    cycle_count += 1\n",
    "    \n",
    "    print(f\"Cycle {cycle_count}: Work for 2 minutes.\")\n",
    "    work_time = WORK_DURATION\n",
    "    while work_time > 0:\n",
    "        mins, secs = divmod(work_time, 60)\n",
    "        print(f\"Time remaining: {mins:02d}:{secs:02d}\", end=\"\")\n",
    "        work_time -= 1\n",
    "        for _ in range(5):  \n",
    "            pass\n",
    "    print(\"Take a 5-minute break.\")\n",
    "    break_time = BREAK_DURATION\n",
    "    while break_time > 0:\n",
    "        mins, secs = divmod(break_time, 60)\n",
    "        print(f\"Time remaining: {mins:02d}:{secs:02d}\", end=\"\")\n",
    "        break_time -= 1\n",
    "        for _ in range(5):  \n",
    "            pass"
   ]
  },
  {
   "cell_type": "code",
   "execution_count": 4,
   "id": "e58b0187",
   "metadata": {},
   "outputs": [
    {
     "name": "stdout",
     "output_type": "stream",
     "text": [
      "Common meeting times:\n",
      "06:00-07:00\n",
      "07:00-08:00\n",
      "08:00-09:00\n",
      "09:00-10:00\n",
      "10:00-11:00\n",
      "11:00-12:00\n",
      "12:00-13:00\n",
      "13:00-14:00\n",
      "14:00-15:00\n",
      "15:00-16:00\n"
     ]
    }
   ],
   "source": [
    "# Meeting sheduler\n",
    "user1_calendar = [\"08:00-09:30\", \"10:00-11:30\", \"13:00-14:30\", \"15:00-16:30\"]\n",
    "user2_calendar = [\"09:00-10:30\", \"11:00-12:30\", \"13:30-15:00\", \"16:00-17:30\"]\n",
    "user3_calendar = [\"08:30-10:00\", \"10:30-12:00\", \"13:00-14:30\", \"15:30-17:00\"]\n",
    "\n",
    "common_meeting_times = []\n",
    "\n",
    "for hour in range(6, 16):\n",
    "    time_slot = f\"{hour:02d}:00-{hour+1:02d}:00\"\n",
    "    available = True\n",
    "    for event in user1_calendar + user2_calendar + user3_calendar:\n",
    "        if time_slot in event:\n",
    "            available = False\n",
    "            break\n",
    "    if available:\n",
    "        common_meeting_times.append(time_slot)\n",
    "\n",
    "if common_meeting_times:\n",
    "    print(\"Common meeting times:\")\n",
    "    for time_slot in common_meeting_times:\n",
    "        print(time_slot)\n",
    "else:\n",
    "    print(\"No common meeting times available.\")"
   ]
  },
  {
   "cell_type": "code",
   "execution_count": 5,
   "id": "bc759093",
   "metadata": {},
   "outputs": [
    {
     "name": "stdout",
     "output_type": "stream",
     "text": [
      "enter the num1:6\n",
      "enter the num2:9\n",
      "enter the operator:+\n",
      "15\n"
     ]
    }
   ],
   "source": [
    "# Bonus Challenge :\n",
    "# Qno2 \n",
    "# simple Calculator\n",
    "\n",
    "num1=int(input('enter the num1:'))\n",
    "num2=int(input(\"enter the num2:\"))\n",
    "opt=input(\"enter the operator:\")\n",
    "if opt ==\"+\":\n",
    "    print(num1 + num2)\n",
    "elif opt == \"-\":\n",
    "    print(num1 - num2)\n",
    "elif opt == \"*\":\n",
    "    print(num1 * num2)\n",
    "elif opt == \"/\":\n",
    "    print(num1 / num2)\n",
    "else:\n",
    "    print(\"invalid operation\")"
   ]
  },
  {
   "cell_type": "code",
   "execution_count": null,
   "id": "c5349aac",
   "metadata": {},
   "outputs": [],
   "source": []
  }
 ],
 "metadata": {
  "kernelspec": {
   "display_name": "Python 3 (ipykernel)",
   "language": "python",
   "name": "python3"
  },
  "language_info": {
   "codemirror_mode": {
    "name": "ipython",
    "version": 3
   },
   "file_extension": ".py",
   "mimetype": "text/x-python",
   "name": "python",
   "nbconvert_exporter": "python",
   "pygments_lexer": "ipython3",
   "version": "3.11.5"
  }
 },
 "nbformat": 4,
 "nbformat_minor": 5
}
